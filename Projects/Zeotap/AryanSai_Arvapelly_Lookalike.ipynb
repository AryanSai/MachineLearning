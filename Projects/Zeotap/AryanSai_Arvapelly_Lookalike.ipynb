{
  "nbformat": 4,
  "nbformat_minor": 0,
  "metadata": {
    "colab": {
      "provenance": []
    },
    "kernelspec": {
      "name": "python3",
      "display_name": "Python 3"
    },
    "language_info": {
      "name": "python"
    }
  },
  "cells": [
    {
      "cell_type": "code",
      "source": [
        "#importing the necessary libraries\n",
        "import pandas as pd\n",
        "from sklearn.preprocessing import OneHotEncoder, StandardScaler\n",
        "from sklearn.metrics.pairwise import cosine_similarity"
      ],
      "metadata": {
        "id": "xxVw3QqBu5sU"
      },
      "execution_count": 1,
      "outputs": []
    },
    {
      "cell_type": "markdown",
      "source": [
        "## Loading the data"
      ],
      "metadata": {
        "id": "tWRZ7pHU2vRO"
      }
    },
    {
      "cell_type": "code",
      "source": [
        "# load the data from CSV files\n",
        "customers_df = pd.read_csv('/content/Customers.csv')\n",
        "products_df = pd.read_csv('/content/Products.csv')\n",
        "transactions_df = pd.read_csv('/content/Transactions.csv')\n",
        "\n",
        "# merge the datasets based on common keys CustomerID and ProductID\n",
        "merged_data = transactions_df.merge(customers_df, on='CustomerID').merge(products_df, on='ProductID')"
      ],
      "metadata": {
        "id": "OhWNF9bau_IL"
      },
      "execution_count": 2,
      "outputs": []
    },
    {
      "cell_type": "code",
      "source": [
        "customers_df.dtypes"
      ],
      "metadata": {
        "colab": {
          "base_uri": "https://localhost:8080/",
          "height": 210
        },
        "id": "a52jd2kc0fUM",
        "outputId": "bfdf340c-2f40-4ab4-9060-fdcaa55950ac"
      },
      "execution_count": 3,
      "outputs": [
        {
          "output_type": "execute_result",
          "data": {
            "text/plain": [
              "CustomerID      object\n",
              "CustomerName    object\n",
              "Region          object\n",
              "SignupDate      object\n",
              "dtype: object"
            ],
            "text/html": [
              "<div>\n",
              "<style scoped>\n",
              "    .dataframe tbody tr th:only-of-type {\n",
              "        vertical-align: middle;\n",
              "    }\n",
              "\n",
              "    .dataframe tbody tr th {\n",
              "        vertical-align: top;\n",
              "    }\n",
              "\n",
              "    .dataframe thead th {\n",
              "        text-align: right;\n",
              "    }\n",
              "</style>\n",
              "<table border=\"1\" class=\"dataframe\">\n",
              "  <thead>\n",
              "    <tr style=\"text-align: right;\">\n",
              "      <th></th>\n",
              "      <th>0</th>\n",
              "    </tr>\n",
              "  </thead>\n",
              "  <tbody>\n",
              "    <tr>\n",
              "      <th>CustomerID</th>\n",
              "      <td>object</td>\n",
              "    </tr>\n",
              "    <tr>\n",
              "      <th>CustomerName</th>\n",
              "      <td>object</td>\n",
              "    </tr>\n",
              "    <tr>\n",
              "      <th>Region</th>\n",
              "      <td>object</td>\n",
              "    </tr>\n",
              "    <tr>\n",
              "      <th>SignupDate</th>\n",
              "      <td>object</td>\n",
              "    </tr>\n",
              "  </tbody>\n",
              "</table>\n",
              "</div><br><label><b>dtype:</b> object</label>"
            ]
          },
          "metadata": {},
          "execution_count": 3
        }
      ]
    },
    {
      "cell_type": "code",
      "source": [
        "products_df.dtypes"
      ],
      "metadata": {
        "colab": {
          "base_uri": "https://localhost:8080/",
          "height": 210
        },
        "id": "CD2efRLj0m0k",
        "outputId": "955db977-3aec-4f56-bfe5-474d2064bffe"
      },
      "execution_count": 4,
      "outputs": [
        {
          "output_type": "execute_result",
          "data": {
            "text/plain": [
              "ProductID       object\n",
              "ProductName     object\n",
              "Category        object\n",
              "Price          float64\n",
              "dtype: object"
            ],
            "text/html": [
              "<div>\n",
              "<style scoped>\n",
              "    .dataframe tbody tr th:only-of-type {\n",
              "        vertical-align: middle;\n",
              "    }\n",
              "\n",
              "    .dataframe tbody tr th {\n",
              "        vertical-align: top;\n",
              "    }\n",
              "\n",
              "    .dataframe thead th {\n",
              "        text-align: right;\n",
              "    }\n",
              "</style>\n",
              "<table border=\"1\" class=\"dataframe\">\n",
              "  <thead>\n",
              "    <tr style=\"text-align: right;\">\n",
              "      <th></th>\n",
              "      <th>0</th>\n",
              "    </tr>\n",
              "  </thead>\n",
              "  <tbody>\n",
              "    <tr>\n",
              "      <th>ProductID</th>\n",
              "      <td>object</td>\n",
              "    </tr>\n",
              "    <tr>\n",
              "      <th>ProductName</th>\n",
              "      <td>object</td>\n",
              "    </tr>\n",
              "    <tr>\n",
              "      <th>Category</th>\n",
              "      <td>object</td>\n",
              "    </tr>\n",
              "    <tr>\n",
              "      <th>Price</th>\n",
              "      <td>float64</td>\n",
              "    </tr>\n",
              "  </tbody>\n",
              "</table>\n",
              "</div><br><label><b>dtype:</b> object</label>"
            ]
          },
          "metadata": {},
          "execution_count": 4
        }
      ]
    },
    {
      "cell_type": "code",
      "source": [
        "transactions_df.dtypes"
      ],
      "metadata": {
        "colab": {
          "base_uri": "https://localhost:8080/",
          "height": 304
        },
        "id": "FBGsWx6u0msN",
        "outputId": "b5d1daab-7a99-43b2-ed1f-214f6d37bc23"
      },
      "execution_count": 5,
      "outputs": [
        {
          "output_type": "execute_result",
          "data": {
            "text/plain": [
              "TransactionID       object\n",
              "CustomerID          object\n",
              "ProductID           object\n",
              "TransactionDate     object\n",
              "Quantity             int64\n",
              "TotalValue         float64\n",
              "Price              float64\n",
              "dtype: object"
            ],
            "text/html": [
              "<div>\n",
              "<style scoped>\n",
              "    .dataframe tbody tr th:only-of-type {\n",
              "        vertical-align: middle;\n",
              "    }\n",
              "\n",
              "    .dataframe tbody tr th {\n",
              "        vertical-align: top;\n",
              "    }\n",
              "\n",
              "    .dataframe thead th {\n",
              "        text-align: right;\n",
              "    }\n",
              "</style>\n",
              "<table border=\"1\" class=\"dataframe\">\n",
              "  <thead>\n",
              "    <tr style=\"text-align: right;\">\n",
              "      <th></th>\n",
              "      <th>0</th>\n",
              "    </tr>\n",
              "  </thead>\n",
              "  <tbody>\n",
              "    <tr>\n",
              "      <th>TransactionID</th>\n",
              "      <td>object</td>\n",
              "    </tr>\n",
              "    <tr>\n",
              "      <th>CustomerID</th>\n",
              "      <td>object</td>\n",
              "    </tr>\n",
              "    <tr>\n",
              "      <th>ProductID</th>\n",
              "      <td>object</td>\n",
              "    </tr>\n",
              "    <tr>\n",
              "      <th>TransactionDate</th>\n",
              "      <td>object</td>\n",
              "    </tr>\n",
              "    <tr>\n",
              "      <th>Quantity</th>\n",
              "      <td>int64</td>\n",
              "    </tr>\n",
              "    <tr>\n",
              "      <th>TotalValue</th>\n",
              "      <td>float64</td>\n",
              "    </tr>\n",
              "    <tr>\n",
              "      <th>Price</th>\n",
              "      <td>float64</td>\n",
              "    </tr>\n",
              "  </tbody>\n",
              "</table>\n",
              "</div><br><label><b>dtype:</b> object</label>"
            ]
          },
          "metadata": {},
          "execution_count": 5
        }
      ]
    },
    {
      "cell_type": "markdown",
      "source": [
        "## Feature Engineering"
      ],
      "metadata": {
        "id": "XEbPUDqmxS_r"
      }
    },
    {
      "cell_type": "markdown",
      "source": [
        "We are aggregating the transaction data for each customer:\n",
        "- TotalTransactionValue: Sum of transaction values\n",
        "- TransactionCount: Count of transactions\n"
      ],
      "metadata": {
        "id": "9huLxAqfxXiN"
      }
    },
    {
      "cell_type": "code",
      "source": [
        "customer_features = merged_data.groupby('CustomerID').agg(\n",
        "    TotalTransactionValue=('TotalValue', 'sum'),\n",
        "    TransactionCount=('TransactionID', 'count'),\n",
        ").reset_index()\n",
        "\n",
        "print(customer_features)"
      ],
      "metadata": {
        "colab": {
          "base_uri": "https://localhost:8080/"
        },
        "id": "lo6Z4e3yvTrD",
        "outputId": "5c09b724-8bde-4059-ce9e-aa4cdeecd409"
      },
      "execution_count": 6,
      "outputs": [
        {
          "output_type": "stream",
          "name": "stdout",
          "text": [
            "    CustomerID  TotalTransactionValue  TransactionCount\n",
            "0        C0001                3354.52                 5\n",
            "1        C0002                1862.74                 4\n",
            "2        C0003                2725.38                 4\n",
            "3        C0004                5354.88                 8\n",
            "4        C0005                2034.24                 3\n",
            "..         ...                    ...               ...\n",
            "194      C0196                4982.88                 4\n",
            "195      C0197                1928.65                 3\n",
            "196      C0198                 931.83                 2\n",
            "197      C0199                1979.28                 4\n",
            "198      C0200                4758.60                 5\n",
            "\n",
            "[199 rows x 3 columns]\n"
          ]
        }
      ]
    },
    {
      "cell_type": "markdown",
      "source": [
        "## One-Hot Encoding"
      ],
      "metadata": {
        "id": "8qFS6wykwL4F"
      }
    },
    {
      "cell_type": "markdown",
      "source": [
        "We want to transform categorical variables (like Category and Region) into a numerical format by creating a binary column for each unique category, where 1 indicates the presence of a category and 0 its absence."
      ],
      "metadata": {
        "id": "TIxECW15wnTw"
      }
    },
    {
      "cell_type": "code",
      "source": [
        "# Creates binary columns for each category the customer purchased\n",
        "category_features = pd.get_dummies(merged_data[['CustomerID', 'Category']], columns=['Category'])\n",
        "\n",
        "# One-hot encode customer regions for each region the customer belongs to\n",
        "region_features = pd.get_dummies(customers_df[['CustomerID', 'Region']], columns=['Region'])"
      ],
      "metadata": {
        "id": "QLlkXno8vkbN"
      },
      "execution_count": 7,
      "outputs": []
    },
    {
      "cell_type": "code",
      "source": [
        "# Combine all features into a single dataset\n",
        "# Merges aggregated transaction features, one-hot-encoded categories, and regions\n",
        "final_features = (\n",
        "    customer_features\n",
        "    .merge(category_features.groupby('CustomerID').sum(), on='CustomerID')  # Sum category features per customer\n",
        "    .merge(region_features, on='CustomerID')  # Add region features\n",
        ")"
      ],
      "metadata": {
        "id": "EoWwgNetxL9l"
      },
      "execution_count": 8,
      "outputs": []
    },
    {
      "cell_type": "markdown",
      "source": [
        "##Normalization"
      ],
      "metadata": {
        "id": "HhyvaHltxsvB"
      }
    },
    {
      "cell_type": "code",
      "source": [
        "# normalizing the numeric features (mean = 0, standard deviation = 1)\n",
        "scaler = StandardScaler()\n",
        "normalized_features = pd.DataFrame(\n",
        "    scaler.fit_transform(final_features.drop(columns=['CustomerID'])),  #except 'CustomerID'\n",
        "    columns=final_features.columns[1:],  # keep column names except 'CustomerID'\n",
        "    index=final_features['CustomerID']   # use 'CustomerID' as the index\n",
        ")"
      ],
      "metadata": {
        "id": "eW-U6sALxxRI"
      },
      "execution_count": 9,
      "outputs": []
    },
    {
      "cell_type": "markdown",
      "source": [
        "## Cosine Similarity Calculation"
      ],
      "metadata": {
        "id": "Yy3MHhGvyc4D"
      }
    },
    {
      "cell_type": "code",
      "source": [
        "# Compute cosine similarity between all customers\n",
        "similarity_matrix = cosine_similarity(normalized_features)\n",
        "\n",
        "# convert similarity matrix into a DataFrame for easier interpretation\n",
        "similarity_df = pd.DataFrame(similarity_matrix, index=final_features['CustomerID'], columns=final_features['CustomerID'])"
      ],
      "metadata": {
        "id": "BZZBmnFdyVkW"
      },
      "execution_count": 10,
      "outputs": []
    },
    {
      "cell_type": "markdown",
      "source": [
        "## Recommendation Generation"
      ],
      "metadata": {
        "id": "C25r6SWT17mc"
      }
    },
    {
      "cell_type": "code",
      "execution_count": 11,
      "metadata": {
        "id": "gcCC1sgQudo9"
      },
      "outputs": [],
      "source": [
        "# recommend top 3 lookalikes for the first 20 customers\n",
        "lookalike_results = {}\n",
        "for customer_id in customers_df['CustomerID'][:20]:  # iterate over the first 20 customers\n",
        "    top_3 = (\n",
        "        similarity_df[customer_id]  # select the similarity scores for the current customer\n",
        "        .sort_values(ascending=False)  # sort scores in descending order\n",
        "        .iloc[1:4]  # exclude the first entry (customer itself) and get the top 3 most similar customers\n",
        "    )\n",
        "    # store the top 3 lookalikes with similarity scores\n",
        "    lookalike_results[customer_id] = list(zip(top_3.index, top_3.values))"
      ]
    },
    {
      "cell_type": "code",
      "source": [
        "# creating a DataFrame to save the lookalike results in the desired format\n",
        "lookalike_df = pd.DataFrame(\n",
        "    [\n",
        "        {'CustomerID': cust_id, 'Lookalikes': str(lookalikes)}  #format: CustomerID, [List of (LookalikeID, Score)]\n",
        "        for cust_id, lookalikes in lookalike_results.items()\n",
        "    ]\n",
        ")\n",
        "# saving the results as a CSV file\n",
        "lookalike_df.to_csv('AryanSai_Arvapelly_Lookalike.csv', index=False)\n",
        "\n",
        "print(\"Lookalike.csv has been generated!\")"
      ],
      "metadata": {
        "colab": {
          "base_uri": "https://localhost:8080/"
        },
        "id": "XGCJOg8gyYaZ",
        "outputId": "73bea996-b3c9-4030-bc94-875860be4457"
      },
      "execution_count": 13,
      "outputs": [
        {
          "output_type": "stream",
          "name": "stdout",
          "text": [
            "Lookalike.csv has been generated!\n"
          ]
        }
      ]
    },
    {
      "cell_type": "code",
      "source": [],
      "metadata": {
        "id": "JdMyhU1Y9Rpl"
      },
      "execution_count": null,
      "outputs": []
    }
  ]
}