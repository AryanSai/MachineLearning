{
  "cells": [
    {
      "cell_type": "code",
      "execution_count": 94,
      "metadata": {
        "id": "_fzZqf-yIqqm"
      },
      "outputs": [],
      "source": [
        "import numpy as np\n",
        "import matplotlib.pyplot as plt\n",
        "from sklearn.model_selection import train_test_split, KFold"
      ]
    },
    {
      "cell_type": "code",
      "execution_count": 95,
      "metadata": {
        "id": "AdHg526iLwrb"
      },
      "outputs": [],
      "source": [
        "np.random.seed(0) #makes the random numbers predicatable"
      ]
    },
    {
      "cell_type": "markdown",
      "metadata": {},
      "source": [
        "normal == gaussian"
      ]
    },
    {
      "cell_type": "code",
      "execution_count": 96,
      "metadata": {
        "id": "ozjGZnm5MX4U"
      },
      "outputs": [],
      "source": [
        "dogs_whisker_length = np.random.normal(loc = 5, scale = 1, size= 10 ) #mean, std, number of datapoints\n",
        "dogs_ear_flapiness_index = np.random.normal(loc = 8, scale = 1, size= 10 ) #mean, std, number of datapoints"
      ]
    },
    {
      "cell_type": "code",
      "execution_count": 97,
      "metadata": {
        "id": "ElcFAHYFM3Vo"
      },
      "outputs": [],
      "source": [
        "cats_whisker_length = np.random.normal(loc = 8, scale = 1, size= 10 ) #mean, std, number of datapoints\n",
        "cats_ear_flapiness_index = np.random.normal(loc = 5, scale = 1, size= 10 ) #mean, std, number of datapoints"
      ]
    },
    {
      "cell_type": "code",
      "execution_count": 98,
      "metadata": {
        "id": "X5ZWu_o0NUS6"
      },
      "outputs": [
        {
          "data": {
            "text/plain": [
              "array([6.76405235, 5.40015721, 5.97873798, 7.2408932 , 6.86755799,\n",
              "       4.02272212, 5.95008842, 4.84864279, 4.89678115, 5.4105985 ])"
            ]
          },
          "execution_count": 98,
          "metadata": {},
          "output_type": "execute_result"
        }
      ],
      "source": [
        "dogs_whisker_length"
      ]
    },
    {
      "cell_type": "code",
      "execution_count": 99,
      "metadata": {},
      "outputs": [
        {
          "data": {
            "image/png": "[encoded data removed]",
            "text/plain": [
              "<Figure size 640x480 with 1 Axes>"
            ]
          },
          "metadata": {},
          "output_type": "display_data"
        }
      ],
      "source": [
        "plt.scatter(dogs_whisker_length, dogs_ear_flapiness_index, label = \"dogs\") #label is for legend\n",
        "plt.scatter(cats_whisker_length, cats_ear_flapiness_index, label = \"cats\")\n",
        "plt.xlabel('Whisker Length')\n",
        "plt.ylabel('Ear Flapiness Index')\n",
        "plt.title('Dogs vs Cats Classification')\n",
        "plt.legend()\n",
        "plt.show()\n",
        "\n"
      ]
    },
    {
      "cell_type": "code",
      "execution_count": 100,
      "metadata": {},
      "outputs": [],
      "source": [
        "def compute_error(dogs, cats, theta, theta0):\n",
        "    error = 0\n",
        "    for x in dogs:\n",
        "        if np.dot(x, theta) + theta0 <= 0:\n",
        "            error+=1\n",
        "        if np.dot(x, theta) + theta0 > 0:\n",
        "            error+=1\n",
        "    return error"
      ]
    },
    {
      "cell_type": "code",
      "execution_count": 101,
      "metadata": {},
      "outputs": [],
      "source": [
        "#d is the number of features: here it is 2\n",
        "def random_linear_classifier(dogs, cats, k, d):\n",
        "    best_error = float('inf')\n",
        "    best_theta = None\n",
        "    best_theta0 = None\n",
        "\n",
        "    for _ in range(k):\n",
        "        theta = np.random.normal(size = d) #here is it theta1 and theta2; based on d\n",
        "        #theta is a vector with two dimensions\n",
        "        theta0 = np.random.normal()\n",
        "\n",
        "        error = compute_error(dogs, cats, theta, theta0)\n",
        "\n",
        "        if error < best_error:\n",
        "            best_error = error\n",
        "            best_theta = theta\n",
        "            best_theta0 = theta0\n",
        "\n",
        "    return best_theta, best_theta0, best_error\n"
      ]
    },
    {
      "cell_type": "code",
      "execution_count": 102,
      "metadata": {},
      "outputs": [],
      "source": [
        "dogs = np.vstack((dogs_whisker_length, dogs_ear_flapiness_index)).T\n",
        "cats = np.vstack((cats_whisker_length, cats_ear_flapiness_index)).T\n",
        "data = np.vstack((dogs, cats))\n",
        "labels =  np.hstack((np.zeros(len(dogs)),np.ones(len(cats))))\n"
      ]
    },
    {
      "cell_type": "code",
      "execution_count": 103,
      "metadata": {},
      "outputs": [],
      "source": [
        "X_train, X_test, y_train, y_test = train_test_split(data, labels, test_size=0.2, random_state=42)"
      ]
    },
    {
      "cell_type": "code",
      "execution_count": 104,
      "metadata": {},
      "outputs": [
        {
          "name": "stdout",
          "output_type": "stream",
          "text": [
            "[-1.04855297 -1.42001794] -1.7062701906250126\n",
            "Training Error: 8\n"
          ]
        }
      ],
      "source": [
        "k = 100\n",
        "d = 2\n",
        "theta, theta0, train_error = random_linear_classifier(X_train[y_train==0], X_train[y_train==1], k, d)\n",
        "\n",
        "print(theta, theta0)\n",
        "\n",
        "print(f\"Training Error: {train_error}\")"
      ]
    },
    {
      "cell_type": "code",
      "execution_count": 105,
      "metadata": {},
      "outputs": [
        {
          "name": "stdout",
          "output_type": "stream",
          "text": [
            "[ 1.0685094 -0.4533858] -0.6878376110286823 2\n",
            "Testing Error: 2\n"
          ]
        }
      ],
      "source": [
        "k = 100\n",
        "d = 2\n",
        "theta, theta0, test_error = random_linear_classifier(X_test[y_test==0], X_test[y_test==1], k, d)\n",
        "\n",
        "print(theta, theta0, test_error)\n",
        "print(f\"Testing Error: {test_error}\")"
      ]
    }
  ],
  "metadata": {
    "colab": {
      "provenance": []
    },
    "kernelspec": {
      "display_name": "ml",
      "language": "python",
      "name": "python3"
    },
    "language_info": {
      "codemirror_mode": {
        "name": "ipython",
        "version": 3
      },
      "file_extension": ".py",
      "mimetype": "text/x-python",
      "name": "python",
      "nbconvert_exporter": "python",
      "pygments_lexer": "ipython3",
      "version": "3.13.1"
    }
  },
  "nbformat": 4,
  "nbformat_minor": 0
}
