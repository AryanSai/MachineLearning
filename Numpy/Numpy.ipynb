{
 "cells": [
  {
   "cell_type": "markdown",
   "id": "0861abb5",
   "metadata": {},
   "source": [
    "### Lists in Python"
   ]
  },
  {
   "cell_type": "code",
   "execution_count": 1,
   "id": "71c9791a",
   "metadata": {},
   "outputs": [
    {
     "name": "stdout",
     "output_type": "stream",
     "text": [
      "[20, 24, 22, 18, 19]\n",
      "[18, 19, 20, 22, 24]\n",
      "18\n",
      "19\n",
      "20\n",
      "22\n",
      "24\n",
      "0\n",
      "1\n",
      "2\n",
      "3\n",
      "4\n",
      "5\n",
      "6\n",
      "7\n",
      "8\n",
      "9\n",
      "10\n"
     ]
    }
   ],
   "source": [
    "#lists in python\n",
    "\n",
    "marks = [20,24,22,18,19]\n",
    "print(marks)\n",
    "\n",
    "marks.sort()\n",
    "print(marks)\n",
    "\n",
    "for i in marks:\n",
    "    print(i)\n",
    "\n",
    "for i in range(11):\n",
    "    print(i)"
   ]
  },
  {
   "cell_type": "code",
   "execution_count": 2,
   "id": "d3492d5f",
   "metadata": {},
   "outputs": [
    {
     "name": "stdout",
     "output_type": "stream",
     "text": [
      "36\n"
     ]
    }
   ],
   "source": [
    "sum = 0\n",
    "for i in range(4):\n",
    "    for j in range(4):\n",
    "        sum = sum + (i*j)\n",
    "print(sum)"
   ]
  },
  {
   "cell_type": "markdown",
   "id": "31f70eb7",
   "metadata": {},
   "source": [
    "### Issues with Python Lists:\n",
    "- need to use loops for matrix operations which is very inefficient and cumbersome\n",
    "- python is interpreted and is very slow\n",
    "- memory inefficient\n",
    "- no vectorised operations, hence no parallelisation"
   ]
  },
  {
   "cell_type": "markdown",
   "id": "0f9e1f76",
   "metadata": {},
   "source": [
    "## Numpy\n",
    "\n",
    "- Though numpy is used in python, it was implemented in c and c++ for faster computations\n",
    "\n",
    "Features of Numpy:\n",
    "\n",
    "- can define multidimensional arrays\n",
    "- vectorised operations\n",
    "- LA, stats and broadcasting(influence all elements of the array with a single op)\n",
    "- foundation for pandas, scikit-learn, pytorch\n",
    "- works only on CPU, not GPU"
   ]
  },
  {
   "cell_type": "markdown",
   "id": "97a2bd24",
   "metadata": {},
   "source": [
    "- The array object in NumPy is called ndarray, it provides a lot of supporting functions that make working with ndarray very easy.\n",
    "- NumPy arrays are stored at one continuous place in memory unlike lists, so processes can access and manipulate them very efficiently. This behavior is called locality of reference in computer science.\n",
    "- This is the main reason why NumPy is faster than lists. Also it is optimized to work with latest CPU architectures."
   ]
  },
  {
   "cell_type": "code",
   "execution_count": 3,
   "id": "12cb19bf",
   "metadata": {},
   "outputs": [],
   "source": [
    "import numpy as np"
   ]
  },
  {
   "cell_type": "code",
   "execution_count": 4,
   "id": "a88db975",
   "metadata": {},
   "outputs": [
    {
     "name": "stdout",
     "output_type": "stream",
     "text": [
      "(3,)\n",
      "1\n",
      "int64\n"
     ]
    }
   ],
   "source": [
    "a = np.array([1,2,3])\n",
    "b = np.array([4,5,6])\n",
    "\n",
    "c = np.array([[1,2],[3,4]])\n",
    "\n",
    "print(a.shape)\n",
    "print(a.ndim)\n",
    "print(a.dtype)\n"
   ]
  },
  {
   "cell_type": "code",
   "execution_count": 5,
   "id": "f7d610c1",
   "metadata": {},
   "outputs": [
    {
     "name": "stdout",
     "output_type": "stream",
     "text": [
      "[2 4 6]\n",
      "[1, 2, 3, 1, 2, 3]\n"
     ]
    }
   ],
   "source": [
    "#broadcasting\n",
    "a *= 2\n",
    "print(a)\n",
    "\n",
    "#no broadcasting in normal lists\n",
    "#it doubles the list\n",
    "ls = [1,2,3]\n",
    "ls *= 2\n",
    "print(ls)"
   ]
  },
  {
   "cell_type": "markdown",
   "id": "94793634",
   "metadata": {},
   "source": [
    "## Math functions"
   ]
  },
  {
   "cell_type": "code",
   "execution_count": 6,
   "id": "11904fcd",
   "metadata": {},
   "outputs": [
    {
     "name": "stdout",
     "output_type": "stream",
     "text": [
      "[1.41421356 2.         2.44948974]\n",
      "[0.69314718 1.38629436 1.79175947]\n",
      "[0.30103    0.60205999 0.77815125]\n",
      "2.718281828459045\n"
     ]
    }
   ],
   "source": [
    "print(np.sqrt(a))\n",
    "print(np.log(a))\n",
    "print(np.log10(a))\n",
    "print(np.e)\n"
   ]
  },
  {
   "cell_type": "markdown",
   "id": "b5cf4e1a",
   "metadata": {},
   "source": [
    "## Slicing and Indexing"
   ]
  },
  {
   "cell_type": "code",
   "execution_count": 7,
   "id": "a467c088",
   "metadata": {},
   "outputs": [
    {
     "name": "stdout",
     "output_type": "stream",
     "text": [
      "1\n",
      "1\n",
      "[1, 2]\n"
     ]
    }
   ],
   "source": [
    "a = [1,2,3]\n",
    "print(a[0])\n",
    "print(c[0][0])\n",
    "print(a[0:2])\n"
   ]
  },
  {
   "cell_type": "markdown",
   "id": "0b61cdb7",
   "metadata": {},
   "source": [
    "## Accessing multi-dim arrays"
   ]
  },
  {
   "cell_type": "code",
   "execution_count": 8,
   "id": "028b625b",
   "metadata": {},
   "outputs": [
    {
     "name": "stdout",
     "output_type": "stream",
     "text": [
      "6\n"
     ]
    }
   ],
   "source": [
    "arr = np.array([[[1, 2, 3], [4, 5, 6]], [[7, 8, 9], [10, 11, 12]]])\n",
    "\n",
    "print(arr[0, 1, 2])"
   ]
  },
  {
   "cell_type": "code",
   "execution_count": 9,
   "id": "99b3d37f",
   "metadata": {},
   "outputs": [
    {
     "name": "stdout",
     "output_type": "stream",
     "text": [
      "Last element from 2nd dim:  10\n"
     ]
    }
   ],
   "source": [
    "arr = np.array([[1,2,3,4,5], [6,7,8,9,10]])\n",
    "\n",
    "print('Last element from 2nd dim: ', arr[1, -1])"
   ]
  },
  {
   "cell_type": "code",
   "execution_count": 10,
   "id": "4161bd9f",
   "metadata": {},
   "outputs": [
    {
     "name": "stdout",
     "output_type": "stream",
     "text": [
      "[[1 2 3]\n",
      " [4 5 6]]\n"
     ]
    }
   ],
   "source": [
    "m = np.array([1,2,3,4,5,6])\n",
    "mm = np.reshape(m, (2,3))\n",
    "print(mm)"
   ]
  },
  {
   "cell_type": "code",
   "execution_count": 11,
   "id": "c4b6774f",
   "metadata": {},
   "outputs": [
    {
     "name": "stdout",
     "output_type": "stream",
     "text": [
      "[2 4]\n"
     ]
    }
   ],
   "source": [
    "arr = np.array([1, 2, 3, 4, 5, 6, 7])\n",
    "# Return every other element from index 1 to index 5:\n",
    "print(arr[1:5:2])"
   ]
  },
  {
   "cell_type": "code",
   "execution_count": 12,
   "id": "2df5b6a4",
   "metadata": {},
   "outputs": [
    {
     "name": "stdout",
     "output_type": "stream",
     "text": [
      "[ 6 15]\n",
      "[5 7 9]\n",
      "[2. 5.]\n"
     ]
    }
   ],
   "source": [
    "sum_row = np.sum(mm, axis = 1)\n",
    "print(sum_row)\n",
    "\n",
    "col_sum = np.sum(mm, axis = 0)\n",
    "print(col_sum)\n",
    "\n",
    "mean_row = np.mean(mm, axis = 1)\n",
    "print(mean_row)"
   ]
  },
  {
   "cell_type": "markdown",
   "id": "765cafd4",
   "metadata": {},
   "source": [
    "## Speed Comparison"
   ]
  },
  {
   "cell_type": "code",
   "execution_count": 13,
   "id": "8e16aa8a",
   "metadata": {},
   "outputs": [
    {
     "name": "stdout",
     "output_type": "stream",
     "text": [
      "time taken with lists:  1.8372061252593994\n"
     ]
    }
   ],
   "source": [
    "import time\n",
    "N = 10_000_000\n",
    "\n",
    "a = list(range(N))\n",
    "b = list(range(N))\n",
    "c = list(range(N))\n",
    "\n",
    "st = time.time()\n",
    "for i in range(len(a)):\n",
    "    c[i] = a[i] * b[i]\n",
    "end = time.time()\n",
    "\n",
    "print(\"time taken with lists: \", end - st)"
   ]
  },
  {
   "cell_type": "code",
   "execution_count": 14,
   "id": "9b9ed340",
   "metadata": {},
   "outputs": [
    {
     "name": "stdout",
     "output_type": "stream",
     "text": [
      "time taken with numpy:  0.0674598217010498\n"
     ]
    }
   ],
   "source": [
    "na = np.array(a)\n",
    "nb = np.array(b)\n",
    "\n",
    "st = time.time()\n",
    "nc = na * nb\n",
    "end = time.time()\n",
    "\n",
    "print(\"time taken with numpy: \", end - st)"
   ]
  },
  {
   "cell_type": "markdown",
   "id": "4f4030e3",
   "metadata": {},
   "source": [
    "# Matrix Multiplication\n",
    "- np.matmul()\n",
    "- a @ b"
   ]
  },
  {
   "cell_type": "code",
   "execution_count": 15,
   "id": "a1a0964a",
   "metadata": {},
   "outputs": [
    {
     "name": "stdout",
     "output_type": "stream",
     "text": [
      "[59.33333333 95.66666667 81.         28.33333333 40.33333333]\n",
      "1\n",
      "[90 98 99]\n",
      "Subject toppers:  [1 1 1]\n"
     ]
    }
   ],
   "source": [
    "marks = np.array([[70,68,40],[90,98,99],[81,74,88],[12,31,42],[33,56,32]])\n",
    "\n",
    "mean_marks = np.mean(marks, axis = 1)\n",
    "print(mean_marks)\n",
    "\n",
    "print(np.where(mean_marks == np.max(mean_marks))[0][0])\n",
    "\n",
    "subject_top_score = np.max(marks, axis = 0)\n",
    "print(subject_top_score)\n",
    "\n",
    "print(\"Subject toppers: \", np.argmax(marks, axis = 0))"
   ]
  },
  {
   "cell_type": "markdown",
   "id": "3dd29187",
   "metadata": {},
   "source": [
    "## NumPy Array Copy vs View"
   ]
  },
  {
   "cell_type": "code",
   "execution_count": 16,
   "id": "244e8c6d",
   "metadata": {},
   "outputs": [
    {
     "name": "stdout",
     "output_type": "stream",
     "text": [
      "[1 2 3 4 5 6]\n",
      "[100   2   3   4   5   6]\n",
      "[100 100   3   4   5   6]\n",
      "[1 2 3 4 5 6]\n",
      "[100 100   3   4   5   6]\n",
      "None\n",
      "[100 100   3   4   5   6]\n"
     ]
    }
   ],
   "source": [
    "arr = np.array([1,2,3,4,5,6])\n",
    "\n",
    "cp = arr.copy() #creates a new separate copy\n",
    "vw = arr.view() #creates a view of the original array/\n",
    "\n",
    "arr[0] = 100\n",
    "\n",
    "print(cp)\n",
    "print(vw)\n",
    "\n",
    "vw[1] = 100\n",
    "print(arr)\n",
    "print(cp)\n",
    "print(vw)\n",
    "\n",
    "#to check if its a view or a copy\n",
    "print(cp.base) #The copy returns None.\n",
    "print(vw.base) #The view returns the original array."
   ]
  },
  {
   "cell_type": "markdown",
   "id": "7e540cf5",
   "metadata": {},
   "source": [
    "## Iterating an array"
   ]
  },
  {
   "cell_type": "code",
   "execution_count": 17,
   "id": "c48e983b",
   "metadata": {},
   "outputs": [
    {
     "name": "stdout",
     "output_type": "stream",
     "text": [
      "1\n",
      "2\n",
      "3\n",
      "4\n",
      "5\n",
      "6\n",
      "7\n",
      "8\n"
     ]
    }
   ],
   "source": [
    "arr = np.array([[[1, 2], [3, 4]], [[5, 6], [7, 8]]])\n",
    "\n",
    "for x in np.nditer(arr):\n",
    "  print(x)"
   ]
  },
  {
   "cell_type": "code",
   "execution_count": 18,
   "id": "7a2b5cec",
   "metadata": {},
   "outputs": [
    {
     "name": "stdout",
     "output_type": "stream",
     "text": [
      "(0,) 1\n",
      "(1,) 2\n",
      "(2,) 3\n"
     ]
    }
   ],
   "source": [
    "arr = np.array([1, 2, 3])\n",
    "\n",
    "for idx, x in np.ndenumerate(arr):\n",
    "  print(idx, x)"
   ]
  },
  {
   "cell_type": "code",
   "execution_count": 20,
   "id": "b43830de",
   "metadata": {},
   "outputs": [
    {
     "name": "stdout",
     "output_type": "stream",
     "text": [
      "[[1 4]\n",
      " [2 5]\n",
      " [3 6]]\n",
      "[[1 2 3]\n",
      " [4 5 6]]\n"
     ]
    }
   ],
   "source": [
    "arr1 = np.array([1, 2, 3])\n",
    "\n",
    "arr2 = np.array([4, 5, 6])\n",
    "\n",
    "arr = np.stack((arr1, arr2), axis=1)\n",
    "\n",
    "print(arr)\n",
    "\n",
    "arr = np.stack((arr1, arr2), axis=0)\n",
    "\n",
    "print(arr)"
   ]
  },
  {
   "cell_type": "code",
   "execution_count": null,
   "id": "fb26b9b4",
   "metadata": {},
   "outputs": [],
   "source": []
  }
 ],
 "metadata": {
  "kernelspec": {
   "display_name": "ml",
   "language": "python",
   "name": "python3"
  },
  "language_info": {
   "codemirror_mode": {
    "name": "ipython",
    "version": 3
   },
   "file_extension": ".py",
   "mimetype": "text/x-python",
   "name": "python",
   "nbconvert_exporter": "python",
   "pygments_lexer": "ipython3",
   "version": "3.13.3"
  }
 },
 "nbformat": 4,
 "nbformat_minor": 5
}
